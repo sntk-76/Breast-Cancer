{
 "cells": [
  {
   "cell_type": "markdown",
   "metadata": {},
   "source": [
    "# 1. Load The Libraries : "
   ]
  },
  {
   "cell_type": "code",
   "execution_count": null,
   "metadata": {},
   "outputs": [],
   "source": [
    "import numpy as np \n",
    "import pandas as pd\n",
    "import seaborn as sns\n",
    "import os\n",
    "import cv2\n",
    "import matplotlib.pyplot as plt\n",
    "from sklearn.metrics import confusion_matrix,accuracy_score,classification_report\n",
    "from sklearn.model_selection import train_test_split,GridSearchCV\n",
    "from sklearn.tree import DecisionTreeClassifier,plot_tree\n",
    "from sklearn.ensemble import RandomForestClassifier\n",
    "from sklearn.svm import SVC"
   ]
  },
  {
   "cell_type": "markdown",
   "metadata": {},
   "source": [
    "# 2. Read The Images Path: \n",
    "\n",
    "In step 2, all the path for the the images were read and I create a dataframe with two columns which are : 1. path 2.label"
   ]
  },
  {
   "cell_type": "code",
   "execution_count": null,
   "metadata": {},
   "outputs": [],
   "source": [
    "path = 'D:/other/python/IMT/Breast Cancer/Breast-Cancer/Data'\n",
    "\n",
    "categories = [['benign',438],['malignant',211],['normal',134]]\n",
    "\n",
    "images_path_list= []\n",
    "\n",
    "all_image_path_list = []\n",
    "\n",
    "for i in range(len(categories)) : \n",
    "    \n",
    "    new_path = (f'{path}/{categories[i][0]}')\n",
    "    \n",
    "    for j in range(1,categories[i][1]):\n",
    "    \n",
    "        image_path = (f'{new_path}/{categories[i][0]} ({j}).png') \n",
    "        \n",
    "        images_path_list.append(image_path)\n",
    "        \n",
    "    image_path_df = pd.DataFrame()\n",
    "    \n",
    "    image_path_df['Path'] =   images_path_list\n",
    "    image_path_df['Label'] = categories[i][0]\n",
    "    \n",
    "    all_image_path_list.append(image_path_df)\n",
    "    \n",
    "    images_path_list = []\n",
    "    \n",
    "image_path_df = pd.concat(all_image_path_list,axis = 0)\n",
    "image_path_df.reset_index(drop=True,inplace=True)\n",
    "        \n",
    "image_path_df.to_csv('D:/other/python/IMT/Breast Cancer/Breast-Cancer/Data/path.csv')\n",
    "image_path_df"
   ]
  },
  {
   "cell_type": "markdown",
   "metadata": {},
   "source": [
    "# 3. Shuffle Dataset : \n",
    "\n",
    "I notice that there is imbalance in dataset, because the number of the avalaible samples for each label in not the same, so I decided to consider the value 133 for each label that in the minimum number of the sample for lables.\n",
    "\n",
    "Then, I shuffle all dataset, because the pathes were inported in order, so I shuffle them.\n"
   ]
  },
  {
   "cell_type": "code",
   "execution_count": null,
   "metadata": {},
   "outputs": [],
   "source": [
    "benign_df = image_path_df.iloc[0:133,:]\n",
    "\n",
    "malignant_df = image_path_df.iloc[437:646,:]\n",
    "\n",
    "normal_df = image_path_df.iloc[647:780,:]\n",
    "\n",
    "shuffled_benign_df = benign_df.sample(133)\n",
    "\n",
    "shuffled_malignant_df = malignant_df.sample(133)\n",
    "\n",
    "final_df = pd.concat([shuffled_benign_df,shuffled_malignant_df,normal_df],axis=0)\n",
    "\n",
    "final_df.reset_index(drop=True,inplace=True)\n",
    "\n",
    "final_df\n",
    "\n",
    "final_df['Label'].value_counts()"
   ]
  },
  {
   "cell_type": "markdown",
   "metadata": {},
   "source": [
    "# 4. Read The Images : \n",
    "\n",
    "In step 4, I read the images from the pathes and also resize them, bvecause I need to be in the same size to generate a vector in the same size and then spilit data to the training and test to feed the model."
   ]
  },
  {
   "cell_type": "code",
   "execution_count": null,
   "metadata": {},
   "outputs": [],
   "source": [
    "X = final_df['Path']\n",
    "Y = final_df['Label'].replace({'benign':0,'malignant':1,'normal':2}).values.reshape(-1,1)\n",
    "\n",
    "def read_image(image_pathes):\n",
    "    \n",
    "    width,height = 400,400\n",
    "    final_array = np.empty((480000,),int)\n",
    "      \n",
    "    for image_path in image_pathes : \n",
    "        \n",
    "        image = cv2.imread(image_path)\n",
    "        \n",
    "        resized_image = cv2.resize(image,(width,height))\n",
    "        \n",
    "        flatted_image = resized_image.flatten()\n",
    "        \n",
    "        final_array = np.vstack((final_array,flatted_image))\n",
    "        \n",
    "        \n",
    "    final_array = np.delete(final_array,0,axis=0)    \n",
    "    \n",
    "    return final_array\n",
    "\n",
    "readable_X = read_image(X)  \n",
    "\n",
    "X_train,X_test,Y_train,Y_test = train_test_split(readable_X,Y,test_size=0.2,random_state=0)\n"
   ]
  },
  {
   "cell_type": "markdown",
   "metadata": {},
   "source": [
    "# 5. Define Decision Tree Model : \n",
    "\n",
    "finally I define a function to create the final model and calculate the final accuracy with the respect to the different attributes that are avalaible in Decision Tree model in skeat learn and save the final result."
   ]
  },
  {
   "cell_type": "code",
   "execution_count": null,
   "metadata": {},
   "outputs": [],
   "source": [
    "def Decision_Tree():\n",
    "    \n",
    "    criterion = [\"gini\", \"entropy\"]\n",
    "\n",
    "    max_depth = [None,3,4,5,6,7,8,9,10]\n",
    "    \n",
    "    initial_accuracy = 0\n",
    "\n",
    "    for i in criterion : \n",
    "             \n",
    "        for j in max_depth : \n",
    "            \n",
    "            DecisionTree_Model = DecisionTreeClassifier(criterion=i,max_depth=j)\n",
    "            \n",
    "            DecisionTree_Model.fit(X=X_train,y=Y_train.ravel())\n",
    "            \n",
    "            Y_prediction = DecisionTree_Model.predict(X=X_test)\n",
    "            \n",
    "            model_accuracy = accuracy_score(y_true=Y_test,y_pred=Y_prediction)\n",
    "            \n",
    "            if model_accuracy > initial_accuracy : \n",
    "                \n",
    "                initial_accuracy = model_accuracy\n",
    "                final_model = DecisionTree_Model\n",
    "                final_Y_prdiction = Y_prediction\n",
    "                final_criterion = i\n",
    "                final_MaxDepth = j\n",
    "                print(f'This current model with criterion = {final_criterion}, max_depth = {final_MaxDepth} has the {initial_accuracy*100}% accuracy.')\n",
    "                print(f'\\n--------------------------------------------------------------------------------------------------------------------------\\n')\n",
    "                    \n",
    "    print(f'This final model with criterion = {final_criterion}, max_depth = {final_MaxDepth} has the {initial_accuracy*100}% accuracy.') \n",
    "    \n",
    "    return final_model,final_Y_prdiction"
   ]
  },
  {
   "cell_type": "markdown",
   "metadata": {},
   "source": [
    "# 6. Decision Tree Model : "
   ]
  },
  {
   "cell_type": "code",
   "execution_count": null,
   "metadata": {},
   "outputs": [],
   "source": [
    "DecisionTree_model,Y_prediction_DTM = Decision_Tree()"
   ]
  },
  {
   "cell_type": "markdown",
   "metadata": {},
   "source": [
    "# 7. Define A Function To Evalute The Model : "
   ]
  },
  {
   "cell_type": "code",
   "execution_count": null,
   "metadata": {},
   "outputs": [],
   "source": [
    "def evaluate(Y_prediction,name):\n",
    "    \n",
    "    report = classification_report(y_true=Y_test,y_pred=Y_prediction)\n",
    "    \n",
    "    print(report)\n",
    "    \n",
    "    print('\\n---------------------------------------------------------------------------------------------------------------\\n')\n",
    "    \n",
    "    conf_matrix = confusion_matrix(y_true=Y_test,y_pred=Y_prediction)\n",
    "    \n",
    "    plt.figure(figsize=(8,5))\n",
    "    \n",
    "    sns.heatmap(conf_matrix,annot=True,cmap='Blues')\n",
    "    \n",
    "    plt.xlabel('Predicted Label')\n",
    "    \n",
    "    plt.ylabel('True Label')\n",
    "    \n",
    "    plt.title(f'{name} Evaluation')\n",
    "    \n",
    "    plt.show()"
   ]
  },
  {
   "cell_type": "markdown",
   "metadata": {},
   "source": [
    "# 8. Evaluate The Model : "
   ]
  },
  {
   "cell_type": "code",
   "execution_count": null,
   "metadata": {},
   "outputs": [],
   "source": [
    "evaluate(Y_prediction=Y_prediction_DTM,name='Decision-Tree')"
   ]
  },
  {
   "cell_type": "markdown",
   "metadata": {},
   "source": [
    "# 9. Random Forest Function : "
   ]
  },
  {
   "cell_type": "code",
   "execution_count": null,
   "metadata": {},
   "outputs": [],
   "source": [
    "def Random_Forest():\n",
    "    \n",
    "    estimator = [10,20,30,40,50,60,70,80,90,100]\n",
    "\n",
    "    initial_accuracy = 0\n",
    "\n",
    "    for i in estimator:\n",
    "        \n",
    "        model = RandomForestClassifier(n_estimators=i,criterion='gini',max_depth=8)\n",
    "        \n",
    "        model.fit(X=X_train,y=Y_train.ravel())\n",
    "        \n",
    "        Y_prediction = model.predict(X=X_test)\n",
    "        \n",
    "        model_accuracy = accuracy_score(y_true=Y_test,y_pred=Y_prediction)\n",
    "        \n",
    "        if model_accuracy > initial_accuracy : \n",
    "            \n",
    "            final_model = model\n",
    "            initial_accuracy = model_accuracy\n",
    "            final_Y_prediction = Y_prediction\n",
    "            final_estimator = i\n",
    "            print(f'This current model with estimator = {final_estimator}, has the {initial_accuracy*100}% accuracy.')\n",
    "            print(f'\\n------------------------------------------------------------------------------------------------------------------\\n')               \n",
    "    \n",
    "    print(f'The final model with estimator = {final_estimator}, has the {initial_accuracy*100}% accuracy.')\n",
    "    \n",
    "    return final_model,final_Y_prediction"
   ]
  },
  {
   "cell_type": "markdown",
   "metadata": {},
   "source": [
    "# 10. Random Forest Model :"
   ]
  },
  {
   "cell_type": "code",
   "execution_count": null,
   "metadata": {},
   "outputs": [],
   "source": [
    "RandomForest_Model,Y_prediction_RFM = Random_Forest()"
   ]
  },
  {
   "cell_type": "markdown",
   "metadata": {},
   "source": [
    "# 11. Evaluate The Model : "
   ]
  },
  {
   "cell_type": "code",
   "execution_count": null,
   "metadata": {},
   "outputs": [],
   "source": [
    "evaluate(Y_prediction=Y_prediction_RFM,name='Random-Forest')"
   ]
  },
  {
   "cell_type": "markdown",
   "metadata": {},
   "source": [
    "# 12. SVM Model Function : "
   ]
  },
  {
   "cell_type": "code",
   "execution_count": null,
   "metadata": {},
   "outputs": [],
   "source": [
    "def SVM():    \n",
    "    grid = {\n",
    "        'C' : [0.001,0.01,0.1,1,10],\n",
    "        \n",
    "        'kernel' : [\"linear\",\"poly\",\"rbf\",\"sigmoid\"],\n",
    "        \n",
    "        'degree' : [1,3,5,7],\n",
    "        \n",
    "        'gamma' : [0.01,0.1,1]\n",
    "    }\n",
    "\n",
    "    SVM_Model = SVC()\n",
    "\n",
    "    SVM_CV = GridSearchCV(estimator=SVM_Model,param_grid=grid,cv=5)\n",
    "\n",
    "    SVM_CV.fit(X=X_train,y=Y_train.ravel())\n",
    "\n",
    "    print(f'\\nThe best parameters are : {SVM_CV.best_params_}\\n------------------------------------------------------------------------------\\n')\n",
    "    print(f'\\nThe train accuracy is equal to : {SVM_CV.best_score_}\\n------------------------------------------------------------------------------\\n')\n",
    "    print(f'\\nThe test accuracy is equal to : {SVM_CV.score(X=X_test,y=Y_test)}\\n------------------------------------------------------------------------------\\n')\n",
    "    \n",
    "    return SVM_CV.best_estimator_"
   ]
  },
  {
   "cell_type": "markdown",
   "metadata": {},
   "source": [
    "# 13. SVM Model : "
   ]
  },
  {
   "cell_type": "code",
   "execution_count": null,
   "metadata": {},
   "outputs": [],
   "source": [
    "SVM_Model = SVM()"
   ]
  }
 ],
 "metadata": {
  "kernelspec": {
   "display_name": "Python 3",
   "language": "python",
   "name": "python3"
  },
  "language_info": {
   "codemirror_mode": {
    "name": "ipython",
    "version": 3
   },
   "file_extension": ".py",
   "mimetype": "text/x-python",
   "name": "python",
   "nbconvert_exporter": "python",
   "pygments_lexer": "ipython3",
   "version": "3.10.10"
  }
 },
 "nbformat": 4,
 "nbformat_minor": 2
}
