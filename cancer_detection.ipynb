{
 "cells": [
  {
   "cell_type": "markdown",
   "metadata": {},
   "source": [
    "# 1. Load The Libraries : "
   ]
  },
  {
   "cell_type": "code",
   "execution_count": 1,
   "metadata": {},
   "outputs": [],
   "source": [
    "import numpy as np \n",
    "import pandas as pd\n",
    "import seaborn as sns\n",
    "import os\n",
    "import cv2\n",
    "import matplotlib.pyplot as plt\n",
    "from sklearn.metrics import confusion_matrix,accuracy_score,classification_report\n",
    "from sklearn.model_selection import train_test_split,GridSearchCV\n",
    "from sklearn.tree import DecisionTreeClassifier,plot_tree\n",
    "from sklearn.ensemble import RandomForestClassifier\n",
    "from sklearn.svm import SVC\n",
    "from skimage.feature import hog"
   ]
  },
  {
   "cell_type": "markdown",
   "metadata": {},
   "source": [
    "# 2. Read The Images Path: \n",
    "\n",
    "In step 2, all the path for the the images were read and I create a dataframe with two columns which are : 1. path 2.label"
   ]
  },
  {
   "cell_type": "code",
   "execution_count": 2,
   "metadata": {},
   "outputs": [
    {
     "data": {
      "text/html": [
       "<div>\n",
       "<style scoped>\n",
       "    .dataframe tbody tr th:only-of-type {\n",
       "        vertical-align: middle;\n",
       "    }\n",
       "\n",
       "    .dataframe tbody tr th {\n",
       "        vertical-align: top;\n",
       "    }\n",
       "\n",
       "    .dataframe thead th {\n",
       "        text-align: right;\n",
       "    }\n",
       "</style>\n",
       "<table border=\"1\" class=\"dataframe\">\n",
       "  <thead>\n",
       "    <tr style=\"text-align: right;\">\n",
       "      <th></th>\n",
       "      <th>Image-Path</th>\n",
       "      <th>Mask-Path</th>\n",
       "      <th>Label</th>\n",
       "    </tr>\n",
       "  </thead>\n",
       "  <tbody>\n",
       "    <tr>\n",
       "      <th>0</th>\n",
       "      <td>D:/other/python/IMT/Breast Cancer/Breast-Cance...</td>\n",
       "      <td>D:/other/python/IMT/Breast Cancer/Breast-Cance...</td>\n",
       "      <td>benign</td>\n",
       "    </tr>\n",
       "    <tr>\n",
       "      <th>1</th>\n",
       "      <td>D:/other/python/IMT/Breast Cancer/Breast-Cance...</td>\n",
       "      <td>D:/other/python/IMT/Breast Cancer/Breast-Cance...</td>\n",
       "      <td>benign</td>\n",
       "    </tr>\n",
       "    <tr>\n",
       "      <th>2</th>\n",
       "      <td>D:/other/python/IMT/Breast Cancer/Breast-Cance...</td>\n",
       "      <td>D:/other/python/IMT/Breast Cancer/Breast-Cance...</td>\n",
       "      <td>benign</td>\n",
       "    </tr>\n",
       "    <tr>\n",
       "      <th>3</th>\n",
       "      <td>D:/other/python/IMT/Breast Cancer/Breast-Cance...</td>\n",
       "      <td>D:/other/python/IMT/Breast Cancer/Breast-Cance...</td>\n",
       "      <td>benign</td>\n",
       "    </tr>\n",
       "    <tr>\n",
       "      <th>4</th>\n",
       "      <td>D:/other/python/IMT/Breast Cancer/Breast-Cance...</td>\n",
       "      <td>D:/other/python/IMT/Breast Cancer/Breast-Cance...</td>\n",
       "      <td>benign</td>\n",
       "    </tr>\n",
       "    <tr>\n",
       "      <th>...</th>\n",
       "      <td>...</td>\n",
       "      <td>...</td>\n",
       "      <td>...</td>\n",
       "    </tr>\n",
       "    <tr>\n",
       "      <th>775</th>\n",
       "      <td>D:/other/python/IMT/Breast Cancer/Breast-Cance...</td>\n",
       "      <td>D:/other/python/IMT/Breast Cancer/Breast-Cance...</td>\n",
       "      <td>normal</td>\n",
       "    </tr>\n",
       "    <tr>\n",
       "      <th>776</th>\n",
       "      <td>D:/other/python/IMT/Breast Cancer/Breast-Cance...</td>\n",
       "      <td>D:/other/python/IMT/Breast Cancer/Breast-Cance...</td>\n",
       "      <td>normal</td>\n",
       "    </tr>\n",
       "    <tr>\n",
       "      <th>777</th>\n",
       "      <td>D:/other/python/IMT/Breast Cancer/Breast-Cance...</td>\n",
       "      <td>D:/other/python/IMT/Breast Cancer/Breast-Cance...</td>\n",
       "      <td>normal</td>\n",
       "    </tr>\n",
       "    <tr>\n",
       "      <th>778</th>\n",
       "      <td>D:/other/python/IMT/Breast Cancer/Breast-Cance...</td>\n",
       "      <td>D:/other/python/IMT/Breast Cancer/Breast-Cance...</td>\n",
       "      <td>normal</td>\n",
       "    </tr>\n",
       "    <tr>\n",
       "      <th>779</th>\n",
       "      <td>D:/other/python/IMT/Breast Cancer/Breast-Cance...</td>\n",
       "      <td>D:/other/python/IMT/Breast Cancer/Breast-Cance...</td>\n",
       "      <td>normal</td>\n",
       "    </tr>\n",
       "  </tbody>\n",
       "</table>\n",
       "<p>780 rows × 3 columns</p>\n",
       "</div>"
      ],
      "text/plain": [
       "                                            Image-Path  \\\n",
       "0    D:/other/python/IMT/Breast Cancer/Breast-Cance...   \n",
       "1    D:/other/python/IMT/Breast Cancer/Breast-Cance...   \n",
       "2    D:/other/python/IMT/Breast Cancer/Breast-Cance...   \n",
       "3    D:/other/python/IMT/Breast Cancer/Breast-Cance...   \n",
       "4    D:/other/python/IMT/Breast Cancer/Breast-Cance...   \n",
       "..                                                 ...   \n",
       "775  D:/other/python/IMT/Breast Cancer/Breast-Cance...   \n",
       "776  D:/other/python/IMT/Breast Cancer/Breast-Cance...   \n",
       "777  D:/other/python/IMT/Breast Cancer/Breast-Cance...   \n",
       "778  D:/other/python/IMT/Breast Cancer/Breast-Cance...   \n",
       "779  D:/other/python/IMT/Breast Cancer/Breast-Cance...   \n",
       "\n",
       "                                             Mask-Path   Label  \n",
       "0    D:/other/python/IMT/Breast Cancer/Breast-Cance...  benign  \n",
       "1    D:/other/python/IMT/Breast Cancer/Breast-Cance...  benign  \n",
       "2    D:/other/python/IMT/Breast Cancer/Breast-Cance...  benign  \n",
       "3    D:/other/python/IMT/Breast Cancer/Breast-Cance...  benign  \n",
       "4    D:/other/python/IMT/Breast Cancer/Breast-Cance...  benign  \n",
       "..                                                 ...     ...  \n",
       "775  D:/other/python/IMT/Breast Cancer/Breast-Cance...  normal  \n",
       "776  D:/other/python/IMT/Breast Cancer/Breast-Cance...  normal  \n",
       "777  D:/other/python/IMT/Breast Cancer/Breast-Cance...  normal  \n",
       "778  D:/other/python/IMT/Breast Cancer/Breast-Cance...  normal  \n",
       "779  D:/other/python/IMT/Breast Cancer/Breast-Cance...  normal  \n",
       "\n",
       "[780 rows x 3 columns]"
      ]
     },
     "execution_count": 2,
     "metadata": {},
     "output_type": "execute_result"
    }
   ],
   "source": [
    "path = 'D:/other/python/IMT/Breast Cancer/Breast-Cancer/Data'\n",
    "\n",
    "categories = [['benign',438],['malignant',211],['normal',134]]\n",
    "\n",
    "images_path_list= []\n",
    "mask_path_list = []\n",
    "\n",
    "all_data_path_list = []\n",
    "\n",
    "\n",
    "for i in range(len(categories)) : \n",
    "    \n",
    "    folder_path = (f'{path}/{categories[i][0]}')\n",
    "    \n",
    "    for j in range(1,categories[i][1]):\n",
    "    \n",
    "        image_path = (f'{folder_path}/{categories[i][0]} ({j}).png') \n",
    "        mask_path = (f'{folder_path}/{categories[i][0]} ({j})_mask.png') \n",
    "        \n",
    "        images_path_list.append(image_path)\n",
    "        mask_path_list.append(mask_path)\n",
    "        \n",
    "    data_path_df = pd.DataFrame()\n",
    "    \n",
    "    data_path_df['Image-Path'] =   images_path_list   \n",
    "    data_path_df['Mask-Path'] = mask_path_list\n",
    "    data_path_df['Label'] = categories[i][0]\n",
    "    \n",
    "    all_data_path_list.append(data_path_df)\n",
    "    \n",
    "    images_path_list = []\n",
    "    mask_path_list = []\n",
    "    \n",
    "data_path_df = pd.concat(all_data_path_list,axis = 0)\n",
    "data_path_df.reset_index(drop=True,inplace=True)\n",
    "        \n",
    "data_path_df.to_csv('D:/other/python/IMT/Breast Cancer/Breast-Cancer/Data/path.csv')\n",
    "data_path_df"
   ]
  },
  {
   "cell_type": "markdown",
   "metadata": {},
   "source": [
    "# 3. Shuffle Dataset : \n",
    "\n",
    "I notice that there is imbalance in dataset, because the number of the avalaible samples for each label in not the same, so I decided to consider the value 133 for each label that in the minimum number of the sample for lables.\n",
    "\n",
    "Then, I shuffle all dataset, because the pathes were inported in order, so I shuffle them.\n"
   ]
  },
  {
   "cell_type": "code",
   "execution_count": 3,
   "metadata": {},
   "outputs": [
    {
     "name": "stderr",
     "output_type": "stream",
     "text": [
      "C:\\Users\\sina tavakoli\\AppData\\Local\\Temp\\ipykernel_13156\\3456478526.py:18: FutureWarning: Downcasting behavior in `replace` is deprecated and will be removed in a future version. To retain the old behavior, explicitly call `result.infer_objects(copy=False)`. To opt-in to the future behavior, set `pd.set_option('future.no_silent_downcasting', True)`\n",
      "  final_df.replace(map_dic,inplace=True)\n"
     ]
    },
    {
     "data": {
      "text/plain": [
       "Label\n",
       "0    133\n",
       "1    133\n",
       "2    133\n",
       "Name: count, dtype: int64"
      ]
     },
     "execution_count": 3,
     "metadata": {},
     "output_type": "execute_result"
    }
   ],
   "source": [
    "benign_df = data_path_df.iloc[0:133,:]\n",
    "\n",
    "malignant_df = data_path_df.iloc[437:646,:]\n",
    "\n",
    "normal_df = data_path_df.iloc[647:780,:]\n",
    "\n",
    "shuffled_benign_df = benign_df.sample(133)\n",
    "\n",
    "shuffled_malignant_df = malignant_df.sample(133)\n",
    "\n",
    "final_df = pd.concat([shuffled_benign_df,shuffled_malignant_df,normal_df],axis=0)\n",
    "\n",
    "final_df.reset_index(drop=True,inplace=True)\n",
    "\n",
    "final_df\n",
    "\n",
    "map_dic = {'benign':0,'malignant':1,'normal':2}\n",
    "final_df.replace(map_dic,inplace=True)\n",
    "\n",
    "final_df['Label'].value_counts()"
   ]
  },
  {
   "cell_type": "markdown",
   "metadata": {},
   "source": [
    "# 4. Read The Images & Masks : \n",
    "\n",
    "In step 4, I read the images from the pathes and also resize them, bvecause I need to be in the same size to generate a vector in the same size and then spilit data to the training and test to feed the model."
   ]
  },
  {
   "cell_type": "code",
   "execution_count": 4,
   "metadata": {},
   "outputs": [],
   "source": [
    "def load_images_and_mask(image_path,mask_path,target_size = (400,400)) : \n",
    "    \n",
    "    image = cv2.imread(image_path)\n",
    "    mask = cv2.imread(mask_path,cv2.IMREAD_GRAYSCALE)\n",
    "    \n",
    "    image = cv2.resize(image,target_size)\n",
    "    mask = cv2.resize(mask,target_size)\n",
    "    \n",
    "    return image,mask\n"
   ]
  },
  {
   "cell_type": "markdown",
   "metadata": {},
   "source": [
    "# 6. Extract HOG Features : "
   ]
  },
  {
   "cell_type": "code",
   "execution_count": 5,
   "metadata": {},
   "outputs": [],
   "source": [
    "def hog_extractor(image,mask) : \n",
    "    \n",
    "    masked_image = cv2.bitwise_and(image,image,mask=mask)\n",
    "    \n",
    "    gray_image = cv2.cvtColor(masked_image,cv2.COLOR_BGR2GRAY)\n",
    "    \n",
    "    features,hot_image = hog(gray_image,pixels_per_cell=(16,16),cells_per_block=(2,2),visualize=True)\n",
    "    \n",
    "    return features\n",
    "    "
   ]
  },
  {
   "cell_type": "markdown",
   "metadata": {},
   "source": [
    "# 7. Preparing Dataset For Training :  "
   ]
  },
  {
   "cell_type": "code",
   "execution_count": 6,
   "metadata": {},
   "outputs": [],
   "source": [
    "X = []\n",
    "Y = []\n",
    "\n",
    "for rows in range(len(final_df)) : \n",
    "    \n",
    "    image_path = final_df.loc[rows,'Image-Path']\n",
    "    \n",
    "    mask_path = final_df.loc[rows,'Mask-Path']\n",
    "    \n",
    "    image,mask = load_images_and_mask(image_path=image_path,mask_path=mask_path)\n",
    "    \n",
    "    features = hog_extractor(image=image,mask=mask)\n",
    "    \n",
    "    X.append(features)\n",
    "    \n",
    "    Y.append(final_df.loc[rows,'Label'])\n",
    "\n",
    "X = np.array(X)\n",
    "Y = np.array(Y)    \n",
    "    \n",
    "X_train,X_test,Y_train,Y_test = train_test_split(X,Y,test_size=0.2,random_state=0)    \n",
    "    \n",
    "    "
   ]
  },
  {
   "cell_type": "markdown",
   "metadata": {},
   "source": [
    "# 8. Decision Tree Model Function : \n",
    "\n",
    "finally I define a function to create the final model and calculate the final accuracy with the respect to the different attributes that are avalaible in Decision Tree model in skeat learn and save the final result."
   ]
  },
  {
   "cell_type": "code",
   "execution_count": 7,
   "metadata": {},
   "outputs": [],
   "source": [
    "def decision_tree_model():\n",
    "    \n",
    "    grid = {\n",
    "        \n",
    "        'criterion' : [\"gini\", \"entropy\"],\n",
    "        'max_depth' : [1,2,3,4,5,6,7,8,9,10],\n",
    "        }\n",
    "    \n",
    "    estimator = DecisionTreeClassifier()\n",
    "    \n",
    "    cv_model = GridSearchCV(estimator=estimator,param_grid=grid,cv=5)\n",
    "    \n",
    "    cv_model.fit(X=X_train,y=Y_train.ravel())\n",
    "    \n",
    "    print(f'\\nThe best parameters are : {cv_model.best_params_}\\n------------------------------------------------------------------------------\\n')\n",
    "    print(f'\\nThe train accuracy is equal to : {cv_model.best_score_}\\n------------------------------------------------------------------------------\\n')\n",
    "    print(f'\\nThe test accuracy is equal to : {cv_model.score(X=X_test,y=Y_test)}\\n------------------------------------------------------------------------------\\n')\n",
    "    \n",
    "    return cv_model.best_estimator_\n",
    "    \n",
    "    \n",
    "    "
   ]
  },
  {
   "cell_type": "markdown",
   "metadata": {},
   "source": [
    "# 9. Decision Tree Model : "
   ]
  },
  {
   "cell_type": "code",
   "execution_count": 8,
   "metadata": {},
   "outputs": [
    {
     "name": "stdout",
     "output_type": "stream",
     "text": [
      "\n",
      "The best parameters are : {'criterion': 'gini', 'max_depth': 7}\n",
      "------------------------------------------------------------------------------\n",
      "\n",
      "\n",
      "The train accuracy is equal to : 0.7553571428571428\n",
      "------------------------------------------------------------------------------\n",
      "\n",
      "\n",
      "The test accuracy is equal to : 0.725\n",
      "------------------------------------------------------------------------------\n",
      "\n"
     ]
    }
   ],
   "source": [
    "DecisionTree_Model = decision_tree_model()\n",
    "Y_prediction_DTM = DecisionTree_Model.predict(X_test)"
   ]
  },
  {
   "cell_type": "markdown",
   "metadata": {},
   "source": [
    "# 10. Define A Function To Evalute The Model : "
   ]
  },
  {
   "cell_type": "code",
   "execution_count": 9,
   "metadata": {},
   "outputs": [],
   "source": [
    "def evaluate(Y_prediction,name):\n",
    "    \n",
    "    report = classification_report(y_true=Y_test,y_pred=Y_prediction)\n",
    "    \n",
    "    print(report)\n",
    "    \n",
    "    print('\\n---------------------------------------------------------------------------------------------------------------\\n')\n",
    "    \n",
    "    conf_matrix = confusion_matrix(y_true=Y_test,y_pred=Y_prediction)\n",
    "    \n",
    "    plt.figure(figsize=(8,5))\n",
    "    \n",
    "    sns.heatmap(conf_matrix,annot=True,cmap='Blues')\n",
    "    \n",
    "    plt.xlabel('Predicted Label')\n",
    "    \n",
    "    plt.ylabel('True Label')\n",
    "    \n",
    "    plt.title(f'{name} Evaluation')\n",
    "    \n",
    "    plt.show()"
   ]
  },
  {
   "cell_type": "markdown",
   "metadata": {},
   "source": [
    "# 11. Evaluate Decision Tree Model : "
   ]
  },
  {
   "cell_type": "code",
   "execution_count": 10,
   "metadata": {},
   "outputs": [
    {
     "name": "stdout",
     "output_type": "stream",
     "text": [
      "              precision    recall  f1-score   support\n",
      "\n",
      "           0       0.72      0.62      0.67        29\n",
      "           1       0.83      0.58      0.68        26\n",
      "           2       0.68      1.00      0.81        25\n",
      "\n",
      "    accuracy                           0.72        80\n",
      "   macro avg       0.74      0.73      0.72        80\n",
      "weighted avg       0.74      0.72      0.72        80\n",
      "\n",
      "\n",
      "---------------------------------------------------------------------------------------------------------------\n",
      "\n"
     ]
    },
    {
     "data": {
      "image/png": "[encoded data removed]",
      "text/plain": [
       "<Figure size 800x500 with 2 Axes>"
      ]
     },
     "metadata": {},
     "output_type": "display_data"
    }
   ],
   "source": [
    "evaluate(Y_prediction=Y_prediction_DTM,name='Decision-Tree')"
   ]
  },
  {
   "cell_type": "markdown",
   "metadata": {},
   "source": [
    "# 12. Random Forest Model Function : "
   ]
  },
  {
   "cell_type": "code",
   "execution_count": 11,
   "metadata": {},
   "outputs": [],
   "source": [
    "def random_forest():\n",
    "    \n",
    "    grid = {\n",
    "        \n",
    "        'n_estimators' : [10,20,30,40,50,60,70,80,90,100],\n",
    "        'criterion' : [\"gini\", \"entropy\"],\n",
    "        'max_depth': [1,2,3,4,5,6,7,8,9,10],\n",
    "        \n",
    "        }\n",
    "    \n",
    "    estimator = RandomForestClassifier()\n",
    "    \n",
    "    cv_model = GridSearchCV(estimator=estimator,param_grid=grid,cv=5)\n",
    "    \n",
    "    cv_model.fit(X=X_train,y=Y_train.ravel())\n",
    "    \n",
    "    print(f'\\nThe best parameters are : {cv_model.best_params_}\\n------------------------------------------------------------------------------\\n')\n",
    "    print(f'\\nThe train accuracy is equal to : {cv_model.best_score_}\\n------------------------------------------------------------------------------\\n')\n",
    "    print(f'\\nThe test accuracy is equal to : {cv_model.score(X=X_test,y=Y_test)}\\n------------------------------------------------------------------------------\\n')\n",
    "    \n",
    "    return cv_model.best_estimator_\n",
    "    \n",
    "    \n",
    "    "
   ]
  },
  {
   "cell_type": "markdown",
   "metadata": {},
   "source": [
    "# 10. Random Forest Model :"
   ]
  },
  {
   "cell_type": "code",
   "execution_count": 12,
   "metadata": {},
   "outputs": [
    {
     "name": "stdout",
     "output_type": "stream",
     "text": [
      "\n",
      "The best parameters are : {'criterion': 'entropy', 'max_depth': 10, 'n_estimators': 80}\n",
      "------------------------------------------------------------------------------\n",
      "\n",
      "\n",
      "The train accuracy is equal to : 0.7961805555555556\n",
      "------------------------------------------------------------------------------\n",
      "\n",
      "\n",
      "The test accuracy is equal to : 0.7875\n",
      "------------------------------------------------------------------------------\n",
      "\n"
     ]
    }
   ],
   "source": [
    "RandomForest_Model = random_forest()\n",
    "Y_prediction_RFM = RandomForest_Model.predict(X_test)"
   ]
  },
  {
   "cell_type": "markdown",
   "metadata": {},
   "source": [
    "# 11. Evaluate Random Forest Model : "
   ]
  },
  {
   "cell_type": "code",
   "execution_count": null,
   "metadata": {},
   "outputs": [],
   "source": [
    "evaluate(Y_prediction=Y_prediction_RFM,name='Random-Forest')"
   ]
  },
  {
   "cell_type": "markdown",
   "metadata": {},
   "source": [
    "# 12. SVM Model Function : "
   ]
  },
  {
   "cell_type": "code",
   "execution_count": null,
   "metadata": {},
   "outputs": [],
   "source": [
    "def SVM():    \n",
    "    grid = {\n",
    "        'C' : [0.01,0.1,1,10],\n",
    "        \n",
    "        'kernel' : [\"linear\",\"poly\",\"rbf\",'sigmoid'],\n",
    "        \n",
    "        'degree' : [3,5,7],\n",
    "        \n",
    "        'gamma' : [0.01,0.1,1]\n",
    "    }\n",
    "\n",
    "    SVM_Model = SVC()\n",
    "\n",
    "    SVM_CV = GridSearchCV(estimator=SVM_Model,param_grid=grid,cv=5)\n",
    "\n",
    "    SVM_CV.fit(X=X_train,y=Y_train.ravel())\n",
    "\n",
    "    print(f'\\nThe best parameters are : {SVM_CV.best_params_}\\n------------------------------------------------------------------------------\\n')\n",
    "    print(f'\\nThe train accuracy is equal to : {SVM_CV.best_score_}\\n------------------------------------------------------------------------------\\n')\n",
    "    print(f'\\nThe test accuracy is equal to : {SVM_CV.score(X=X_test,y=Y_test)}\\n------------------------------------------------------------------------------\\n')\n",
    "    \n",
    "    return SVM_CV.best_estimator_"
   ]
  },
  {
   "cell_type": "markdown",
   "metadata": {},
   "source": [
    "# 13. SVM Model : "
   ]
  },
  {
   "cell_type": "code",
   "execution_count": null,
   "metadata": {},
   "outputs": [],
   "source": [
    "SVM_Model = SVM()\n",
    "Y_prediction_SVM = SVM_Model.predict(X_test)"
   ]
  },
  {
   "cell_type": "markdown",
   "metadata": {},
   "source": [
    "# 14. Evaluate SVM Model : "
   ]
  },
  {
   "cell_type": "code",
   "execution_count": null,
   "metadata": {},
   "outputs": [],
   "source": [
    "evaluate(Y_prediction=Y_prediction_SVM,name='SVM')"
   ]
  }
 ],
 "metadata": {
  "kernelspec": {
   "display_name": "Python 3",
   "language": "python",
   "name": "python3"
  },
  "language_info": {
   "codemirror_mode": {
    "name": "ipython",
    "version": 3
   },
   "file_extension": ".py",
   "mimetype": "text/x-python",
   "name": "python",
   "nbconvert_exporter": "python",
   "pygments_lexer": "ipython3",
   "version": "3.10.10"
  }
 },
 "nbformat": 4,
 "nbformat_minor": 2
}
